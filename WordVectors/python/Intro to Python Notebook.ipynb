{
 "cells": [
  {
   "cell_type": "markdown",
   "metadata": {},
   "source": [
    "# Introduction to Python"
   ]
  },
  {
   "cell_type": "markdown",
   "metadata": {},
   "source": [
    "Before we delve too deeply into some of the ins and outs of navigating Jupyter Notebooks, it might be worth it to discuss some of the key features that distinguish Python from other programming languages. Unlike languages such as Java or C++, Python has a relatively forgiving syntax which is designed to be easy to learn. This means that some of the rigid requirements of other programming languages, for instance requiring that you declare variables before you can use them or wrap all code in curly braces {} or a semi-colon ;, is not required in Python. This flexibility makes Python an ideal beginner-friendly programming language."
   ]
  },
  {
   "cell_type": "code",
   "execution_count": null,
   "metadata": {},
   "outputs": [],
   "source": [
    "print(\"hello world\")"
   ]
  },
  {
   "cell_type": "markdown",
   "metadata": {},
   "source": [
    "For instance, look at the line of code above. Even if you don't know any Python, you can probably tell what the code does: it prints the phrase \"hello world.\" You'll likely find that much of Python is just as readable as this \"hello world\" program. "
   ]
  },
  {
   "cell_type": "markdown",
   "metadata": {},
   "source": [
    "This tutorial is going to assume that you may have some light exposure to code, but no substantial experience in Python. For this reason, there are a couple of terms and features which may be useful to define for you up front. First, it is important to note that when you are running Python code, even in Jupyter Notebooks, the computer executes one line at time, starting from the top and working its way down the file. The computer will execute one line at a time until it either hits an error or it reaches the end of the file. It is important to understand this one-line-at-a-time execution for debugging purposes. If you are running a snippet of code and the output looks strange to you, you may want to debug the code by working through the file one line at a time in order to reproduce this strange output. Similarly, understanding that Python is executed from a top-to-bottom approach is important as you are declaring variables, functions, etc. \n",
    "\n",
    "The code only has access to the lines it has already encountered. In programming circles, this type of language is called an \"interpreted\" language. Other languages such as Java and C++ are \"compiled langauges\" which means that they don't run a single line at a time, they \"compile\" all of the code, and then execute it. Because Python is an interpreted language, it tends to be a bit slower than something like C++ and Java, but it has the benefit of being easier to debug. \n",
    "\n",
    "Let's look at these lines of code for example:"
   ]
  },
  {
   "cell_type": "code",
   "execution_count": 2,
   "metadata": {},
   "outputs": [
    {
     "name": "stdout",
     "output_type": "stream",
     "text": [
      "2.5\n"
     ]
    }
   ],
   "source": [
    "x = 2\n",
    "x = 4 + 1\n",
    "x = x / 2\n",
    "print (x)"
   ]
  },
  {
   "cell_type": "code",
   "execution_count": 3,
   "metadata": {},
   "outputs": [
    {
     "name": "stdout",
     "output_type": "stream",
     "text": [
      "1.0\n"
     ]
    }
   ],
   "source": [
    "x = 4 + 1\n",
    "x = 2\n",
    "x = x / 2\n",
    "print (x)"
   ]
  },
  {
   "cell_type": "markdown",
   "metadata": {},
   "source": [
    "As you can see, because Python executes one line at a time, in the first example, the variable 'x' is being set to '2' in the first line, is being reset to '4 + 1' in line two and finally, that value is divided by 2. In the second example, 'x' is set to '4 + 1', is reset to '2' in line two, and then is divided by 2. Although both examples use the same formulas, because they are ordered differently, the final value of 'x' differs. If you are writing code that uses a lot of variables, it can even be helpful to keep a list of your variables and what their current values are (or at least are supposed to be) at different key points in the code.\n",
    "\n",
    "You will also notice that I didn't need to tell the computer what type of variable 'x' is, it decided for itself based on the information I provided it about 'x' (in this case that the value of 'x' is an integer). In programming circles, this tendency of Python to determine variable types for itself is called \"duck typing.\" \"Duck typing\" is when a program assumes that if it looks like a duck and sounds like a duck, it is probably a duck--or in this case an integer. \n"
   ]
  },
  {
   "cell_type": "markdown",
   "metadata": {},
   "source": [
    "# Using Jupyter Notebooks"
   ]
  },
  {
   "cell_type": "markdown",
   "metadata": {},
   "source": [
    "There are a few things worth noting about Jupyter Notebooks before proceeding with the rest of this tutorial. First, one of most prominent features of Jupyter Notebooks, is that it seamlessly combines text and executable code. This feature makes Jupyter Notebooks an ideal environment in which to learn Python. Because Jupyter Notebooks are structured around text and chunks of code, you are able to run code in isolated sections. I recommend taking this approach as you proceed with the tutorial as it will allow you to test things out in bits and pieces in order to ensure that you really understand how the code is working before moving on.\n",
    "\n",
    "In order to run a code snippet, simply click the box where the code is and then click the \"Run\" button on the toolbar at the top. Try running this code snippet below:"
   ]
  },
  {
   "cell_type": "code",
   "execution_count": 4,
   "metadata": {},
   "outputs": [
    {
     "name": "stdout",
     "output_type": "stream",
     "text": [
      "I am a code snippet\n"
     ]
    }
   ],
   "source": [
    "print(\"I am a code snippet\")"
   ]
  },
  {
   "cell_type": "markdown",
   "metadata": {},
   "source": [
    "If everything is working like it should, you should see the phrase \"I am a code snippet\" appear just below the print statement. \n",
    "\n",
    "Some other buttons/features to note are: \n",
    "\n",
    "- The stop button on the toolbar halts whatever code is currently running. This may be useful if in cases where, for example, you mistakenly tell the code to iterate over the wrong data set. \n",
    "- Right next to the stop button, is the restart button. This button will halt whatever code is currently running and then restart the kernel.\n",
    "- Next to the refresh button is the restart and run button. This button will both restart the kernel and run the entire notebook. \n",
    "\n",
    "You can save a Jupyter Notebook by navigating to the \"File\" button on the toolbar and then to the \"Save\" button. Alternatively, you can save by directly clicking the \"Save\" button on the toolbar."
   ]
  },
  {
   "cell_type": "markdown",
   "metadata": {},
   "source": [
    "# Other Environments"
   ]
  },
  {
   "cell_type": "markdown",
   "metadata": {},
   "source": [
    "Although this tutorial is going to take place in Jupyter Notebooks, it's still a good idea to know of other environments for working Python. When I say 'environment' what I mean is some place on your computer wherre the Python interpreter as well as libraries and scripts are installed so that you can run Python code. \n",
    "\n",
    "I'm going to walk you through two particularly popular Python environments: IDLE and Spyder.\n",
    "\n",
    "IDLE (Integrated Development and Learning Environment) is an environment that you can download directly from Python's website. The IDLE interface is very simple. You write code in one window that resembles a text editor, and when you run the code, the output appears in a separate window. Because of IDLE minimalist design, it can be a great environment for beginners. However, one downside to IDLE is that many libraries don't come pre-installed, so there is slightly more pre-work required for code that involves libraries. IDLE generally is a good place to get a handle on the basics *because* it requires you to do more of this sort of work, though once you become more familiar with Python, you will likely want to switch to a different environment that offers more features.\n",
    "\n",
    "Spyder, on the other hand, is an environment that comes as part of Anaconda, a data science platform that comes with many environments (such as Jupyter Notebooks) installed. The benefit of using Spyder, or Anaconda in general, is that Anaconda makes installing libraries very easy, and in fact many libraries come pre-installed. Spyder is particularly popular for machine learning, natural language processing, and other methodologies that involve working with lots of data or natural language. One reason for its popularity, is that Spyder makes debugging code very simple by allowing you to run your code one line at a time. However, the trade off is that Spyder has many more buttons that IDLE so it can take some time getting used to navigating all of the settings. \n",
    "\n",
    "All of the code written in this tutorial can run in either of these environments, so if you want to do some fiddling on your own or just play around with the code in order to become more familiar with Python, try installing either IDLE or Spyder."
   ]
  },
  {
   "cell_type": "markdown",
   "metadata": {},
   "source": [
    "# Debugging in Python"
   ]
  },
  {
   "cell_type": "markdown",
   "metadata": {},
   "source": [
    "It is useful to know how to debug in Python before getting too deep into any code. As I explained above, Python is an *intepreted* language which means that rather than compiling code before executing it, Python interprets code one line at a time. Python's status as an interpreted language makes debugging much easier because the code will simply stop running or print an error when it reaches the problem line. \n",
    "\n",
    "There are a couple of different ways that you can approach debugging in Python and some of these methods will also depend on the environment that you are using to code. \n",
    "\n",
    "### Built in Debugger\n",
    "\n",
    "One simple way to debug your code is to use the built in debugger. In order to begin debugging, you want to insert the following lines into your code:"
   ]
  },
  {
   "cell_type": "code",
   "execution_count": null,
   "metadata": {},
   "outputs": [],
   "source": [
    "import pdb  #this line imports the pdb module which is the built in Python debugger\n",
    "\n",
    "x = \"some string\"\n",
    "y = 2\n",
    "\n",
    "pdb.set_trace() #this line is a break point. You can also use the built in function breakpoint()\n",
    "\n",
    "q = addition(x,y)\n",
    "print (q)"
   ]
  },
  {
   "cell_type": "markdown",
   "metadata": {},
   "source": [
    "If you run the code above, you'll notice that the output includes line numbers and an arrow pointing to the set_trace function. The output tells us that there is a break point that has been placed in the code, as well as where that point is (in this case on line 6). Everything that is printed below the break point is the code that has not been run, yet. \n",
    "\n",
    "The debugger is ideally run in the Command Line. When you run the debugger from the Command Line, the break point is automatically placed at the first line in your code.\n",
    "\n",
    "- help, displays all of the available commands\n",
    "- next, execute the current line and then move to the next line\n",
    "- step, execute the current line and then move to the next within a function\n",
    "- where, displays the current line number\n",
    "- whatis, tells you what the variable type of a variable is (for example, \"whatis y\")\n",
    "\n",
    "### Using Print Statements\n",
    "\n",
    "One really easy way to debug your code, is to place print statements throughout your code. For example, if you have a loop and you know that the loop is supposed to run three times, then if you place a print statement within that loop it will print three times if the loop is correct. Similarly, you can place print statements inside of if statements and if the statement prints, then you know that the condition for the if statement to run was met. "
   ]
  },
  {
   "cell_type": "code",
   "execution_count": null,
   "metadata": {},
   "outputs": [],
   "source": [
    "x = 2\n",
    "y = 1\n",
    "\n",
    "if x == y:\n",
    "    print(\"I made it here\")\n",
    "    print(x)\n",
    "    print(y)\n",
    "    \n",
    "else:\n",
    "    print(\"something is wrong\")\n",
    "    print(x)"
   ]
  },
  {
   "cell_type": "markdown",
   "metadata": {},
   "source": [
    "As you can see, because the if statement's condition was not met, the code printed \"something is wrong\" and then continued to execute the lines below that print statement. Because the if statement's condition was neve met, the print statement below the if statement was never printed and the lines below the statement never executed.\n",
    "\n",
    "It is important to keep in mind that Python files or code snippets run until they hit an error. If there is an error in a loop, the code will sometimes run indefinitely. "
   ]
  },
  {
   "cell_type": "markdown",
   "metadata": {},
   "source": [
    "# Navigating to Your Working Directory"
   ]
  }
 ],
 "metadata": {
  "kernelspec": {
   "display_name": "Python 3",
   "language": "python",
   "name": "python3"
  },
  "language_info": {
   "codemirror_mode": {
    "name": "ipython",
    "version": 3
   },
   "file_extension": ".py",
   "mimetype": "text/x-python",
   "name": "python",
   "nbconvert_exporter": "python",
   "pygments_lexer": "ipython3",
   "version": "3.8.3"
  }
 },
 "nbformat": 4,
 "nbformat_minor": 4
}
